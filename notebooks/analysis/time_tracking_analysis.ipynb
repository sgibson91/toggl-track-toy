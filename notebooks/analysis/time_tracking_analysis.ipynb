{
 "cells": [
  {
   "cell_type": "code",
   "execution_count": null,
   "id": "419c459c",
   "metadata": {},
   "outputs": [],
   "source": [
    "import os\n",
    "import fnmatch\n",
    "import matplotlib\n",
    "import numpy as np\n",
    "import pandas as pd\n",
    "import ipywidgets as widgets\n",
    "import matplotlib.pyplot as plt\n",
    "from ipywidgets import interact, interact_manual\n",
    "\n",
    "%matplotlib inline\n",
    "cmap = matplotlib.cm.get_cmap(\"tab20\")"
   ]
  },
  {
   "cell_type": "code",
   "execution_count": null,
   "id": "a2fa4513",
   "metadata": {},
   "outputs": [],
   "source": [
    "# Setting filepaths\n",
    "#\n",
    "# Get Current Working Directory\n",
    "CWD = os.getcwd()\n",
    "\n",
    "# Set Relative and Absolute filepaths for clean data\n",
    "CLEAN_DATA_RELPATH = os.path.join(os.pardir, os.pardir, \"data\", \"clean\")\n",
    "CLEAN_DATA_ABSPATH = os.path.join(CWD, CLEAN_DATA_RELPATH)"
   ]
  },
  {
   "cell_type": "code",
   "execution_count": null,
   "id": "660c8c1d",
   "metadata": {},
   "outputs": [],
   "source": [
    "# Find data files\n",
    "datafiles = fnmatch.filter(os.listdir(CLEAN_DATA_ABSPATH), \"*.csv\")"
   ]
  },
  {
   "cell_type": "code",
   "execution_count": null,
   "id": "01350f04",
   "metadata": {},
   "outputs": [],
   "source": [
    "# Read in the first datafile\n",
    "filepath = os.path.join(CLEAN_DATA_ABSPATH, datafiles[0])\n",
    "data = pd.read_csv(\n",
    "    filepath,\n",
    "    converters={\n",
    "        \"dt_start\": pd.to_datetime,\n",
    "        \"dt_end\": pd.to_datetime,\n",
    "        \"Duration\": pd.to_timedelta,\n",
    "    },\n",
    "    na_values=0.0,\n",
    ")\n",
    "\n",
    "# Sort the data by start date\n",
    "data.sort_values(\"dt_start\", inplace=True, ignore_index=True)\n",
    "\n",
    "# Convert `Duration` into hours\n",
    "data[\"Duration\"] = data[\"Duration\"] / np.timedelta64(1, \"h\")"
   ]
  },
  {
   "cell_type": "markdown",
   "id": "e69408a2",
   "metadata": {},
   "source": [
    "### Total time spent on tasks per week"
   ]
  },
  {
   "cell_type": "code",
   "execution_count": null,
   "id": "a07bedd0",
   "metadata": {},
   "outputs": [],
   "source": [
    "# Calculate total duration per task per week number\n",
    "duration_per_task = pd.DataFrame({})\n",
    "for task in np.sort(data[\"Task\"].dropna().unique()):\n",
    "    duration_per_task[task] = (\n",
    "        data[data[\"Task\"] == task].groupby(\"week_number\")[\"Duration\"].sum()\n",
    "    )\n",
    "\n",
    "duration_per_task[\"Total\"] = data.groupby(\"week_number\")[\"Duration\"].sum()\n",
    "duration_per_task = duration_per_task.T"
   ]
  },
  {
   "cell_type": "code",
   "execution_count": null,
   "id": "a8978cb1",
   "metadata": {},
   "outputs": [],
   "source": [
    "@interact\n",
    "def make_pie_chart_week(column=duration_per_task.columns.tolist()):\n",
    "    duration_per_task[column].drop(\"Total\", axis=0).dropna().plot.pie(\n",
    "        subplots=True,\n",
    "        figsize=(12, 8),\n",
    "        title=f\"Total = {duration_per_task.loc['Total', column]:.1f} hrs\",\n",
    "        legend=False,\n",
    "        ylabel=\"\",\n",
    "        colormap=cmap,\n",
    "        autopct=\"%1.1f%%\",\n",
    "    );"
   ]
  },
  {
   "cell_type": "markdown",
   "id": "265987fe",
   "metadata": {},
   "source": [
    "### Total time spent on projects per week"
   ]
  },
  {
   "cell_type": "code",
   "execution_count": null,
   "id": "38572a04",
   "metadata": {},
   "outputs": [],
   "source": [
    "duration_per_project = pd.DataFrame({})\n",
    "\n",
    "for project in np.sort(data[\"Project\"].dropna().unique()):\n",
    "    duration_per_project[project] = (\n",
    "        data[data[\"Project\"] == project].groupby(\"week_number\")[\"Duration\"].sum()\n",
    "    )\n",
    "\n",
    "duration_per_project[\"Total\"] = data.groupby(\"week_number\")[\"Duration\"].sum()\n",
    "duration_per_project = duration_per_project.T.sort_index()"
   ]
  },
  {
   "cell_type": "code",
   "execution_count": null,
   "id": "6390262e",
   "metadata": {},
   "outputs": [],
   "source": [
    "@interact\n",
    "def make_pie_chart_project(column=duration_per_project.columns.tolist()):\n",
    "    duration_per_project[column].drop(\"Total\", axis=0).dropna().plot.pie(\n",
    "        subplots=True,\n",
    "        figsize=(12, 8),\n",
    "        title=f\"Total = {duration_per_project.loc['Total', column]:.1f} hrs\",\n",
    "        legend=False,\n",
    "        ylabel=\"\",\n",
    "        colormap=cmap,\n",
    "        autopct=\"%1.1f%%\",\n",
    "    );"
   ]
  },
  {
   "cell_type": "markdown",
   "id": "3d8ecc67",
   "metadata": {},
   "source": [
    "### Total time spent on tasks per project (across all 3 weeks)"
   ]
  },
  {
   "cell_type": "code",
   "execution_count": null,
   "id": "0d5f9178",
   "metadata": {},
   "outputs": [],
   "source": [
    "columns = np.sort(data[\"Task\"].dropna().unique())\n",
    "project_df = pd.DataFrame(columns=columns)\n",
    "\n",
    "for project in np.sort(data[\"Project\"].dropna().unique()):\n",
    "    project_df.loc[project] = (\n",
    "        data[data[\"Project\"] == project].groupby(\"Task\")[\"Duration\"].sum()\n",
    "    )\n",
    "\n",
    "project_df[\"Total\"] = project_df.sum(axis=1)\n",
    "project_df = project_df.T"
   ]
  },
  {
   "cell_type": "code",
   "execution_count": null,
   "id": "2dbbe15a",
   "metadata": {},
   "outputs": [],
   "source": [
    "@interact\n",
    "def make_pie_chart(column=project_df.columns.tolist()):\n",
    "    project_df[column].drop(\"Total\", axis=0).dropna().plot.pie(\n",
    "        subplots=True,\n",
    "        figsize=(12, 8),\n",
    "        title=f\"Total = {project_df.loc['Total', column]:.1f} hrs\",\n",
    "        legend=False,\n",
    "        ylabel=\"\",\n",
    "        colormap=cmap,\n",
    "        autopct=\"%1.1f%%\",\n",
    "    );"
   ]
  },
  {
   "cell_type": "code",
   "execution_count": null,
   "id": "c4f1a289",
   "metadata": {},
   "outputs": [],
   "source": []
  }
 ],
 "metadata": {
  "kernelspec": {
   "display_name": "Python 3 (toggl-track)",
   "language": "python",
   "name": "toggl-track"
  },
  "language_info": {
   "codemirror_mode": {
    "name": "ipython",
    "version": 3
   },
   "file_extension": ".py",
   "mimetype": "text/x-python",
   "name": "python",
   "nbconvert_exporter": "python",
   "pygments_lexer": "ipython3",
   "version": "3.8.8"
  }
 },
 "nbformat": 4,
 "nbformat_minor": 5
}
