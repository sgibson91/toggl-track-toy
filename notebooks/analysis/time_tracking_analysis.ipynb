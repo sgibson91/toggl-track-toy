{
 "cells": [
  {
   "cell_type": "code",
   "execution_count": null,
   "id": "419c459c",
   "metadata": {},
   "outputs": [],
   "source": [
    "# Import required packages\n",
    "import os\n",
    "import fnmatch\n",
    "import matplotlib\n",
    "import numpy as np\n",
    "import pandas as pd\n",
    "import matplotlib.pyplot as plt\n",
    "from itertools import product\n",
    "from ipywidgets import interact\n",
    "\n",
    "%matplotlib inline\n",
    "cmap = matplotlib.cm.get_cmap(\"tab20\")\n",
    "\n",
    "day_cats = [\"Monday\", \"Tuesday\", \"Wednesday\", \"Thursday\", \"Friday\"]"
   ]
  },
  {
   "cell_type": "code",
   "execution_count": null,
   "id": "a2fa4513",
   "metadata": {},
   "outputs": [],
   "source": [
    "# Setting filepaths\n",
    "#\n",
    "# Get Current Working Directory\n",
    "CWD = os.getcwd()\n",
    "\n",
    "# Set Relative and Absolute filepaths for clean data\n",
    "CLEAN_DATA_RELPATH = os.path.join(os.pardir, os.pardir, \"data\", \"clean\")\n",
    "CLEAN_DATA_ABSPATH = os.path.join(CWD, CLEAN_DATA_RELPATH)"
   ]
  },
  {
   "cell_type": "code",
   "execution_count": null,
   "id": "660c8c1d",
   "metadata": {},
   "outputs": [],
   "source": [
    "# Find data files\n",
    "datafiles = fnmatch.filter(os.listdir(CLEAN_DATA_ABSPATH), \"*.csv\")"
   ]
  },
  {
   "cell_type": "code",
   "execution_count": null,
   "id": "01350f04",
   "metadata": {},
   "outputs": [],
   "source": [
    "# Read in the first datafile\n",
    "filepath = os.path.join(CLEAN_DATA_ABSPATH, datafiles[0])\n",
    "data = pd.read_csv(\n",
    "    filepath,\n",
    "    converters={\n",
    "        \"dt_start\": pd.to_datetime,\n",
    "        \"dt_end\": pd.to_datetime,\n",
    "        \"Duration\": pd.to_timedelta,\n",
    "    },\n",
    "    na_values=0.0,\n",
    ")\n",
    "\n",
    "# Sort the data by start date\n",
    "data.sort_values(\"dt_start\", inplace=True, ignore_index=True)\n",
    "\n",
    "# Convert `Duration` into hours\n",
    "data[\"Duration\"] = data[\"Duration\"] / np.timedelta64(1, \"h\")"
   ]
  },
  {
   "cell_type": "markdown",
   "id": "e69408a2",
   "metadata": {},
   "source": [
    "### Total time spent on tasks per week"
   ]
  },
  {
   "cell_type": "code",
   "execution_count": null,
   "id": "a07bedd0",
   "metadata": {},
   "outputs": [],
   "source": [
    "# Calculate total duration per task per week number\n",
    "total_time_per_task = pd.DataFrame({})\n",
    "for task in np.sort(data.Task.dropna().unique()):\n",
    "    total_time_per_task[task] = (\n",
    "        data[data.Task == task].groupby(\"week_number\")[\"Duration\"].sum()\n",
    "    )\n",
    "\n",
    "total_time_per_task[\"Total\"] = data.groupby(\"week_number\")[\"Duration\"].sum()\n",
    "total_time_per_task = total_time_per_task.T"
   ]
  },
  {
   "cell_type": "code",
   "execution_count": null,
   "id": "a8978cb1",
   "metadata": {},
   "outputs": [],
   "source": [
    "@interact\n",
    "def plot_total_time_per_task(column=total_time_per_task.columns.tolist()):\n",
    "    total_time_per_task[column].drop(\"Total\", axis=0).plot.pie(\n",
    "        figsize=(12, 8),\n",
    "        title=f\"Total = {total_time_per_task.loc['Total', column]:.1f} hrs\",\n",
    "        ylabel=\"\",\n",
    "        colormap=cmap,\n",
    "        autopct=\"%1.1f%%\",\n",
    "    )\n",
    "\n",
    "    plt.legend(\n",
    "        loc=\"upper left\",\n",
    "        bbox_to_anchor=(1.05, 1),\n",
    "    );"
   ]
  },
  {
   "cell_type": "markdown",
   "id": "265987fe",
   "metadata": {},
   "source": [
    "### Total time spent on projects per week"
   ]
  },
  {
   "cell_type": "code",
   "execution_count": null,
   "id": "38572a04",
   "metadata": {},
   "outputs": [],
   "source": [
    "total_time_per_project = pd.DataFrame({})\n",
    "\n",
    "for project in np.sort(data.Project.dropna().unique()):\n",
    "    total_time_per_project[project] = (\n",
    "        data[data.Project == project].groupby(\"week_number\")[\"Duration\"].sum()\n",
    "    )\n",
    "\n",
    "total_time_per_project[\"Total\"] = data.groupby(\"week_number\")[\"Duration\"].sum()\n",
    "total_time_per_project = total_time_per_project.T.sort_index()"
   ]
  },
  {
   "cell_type": "code",
   "execution_count": null,
   "id": "6390262e",
   "metadata": {},
   "outputs": [],
   "source": [
    "@interact\n",
    "def plot_total_time_per_project(column=total_time_per_project.columns.tolist()):\n",
    "    total_time_per_project[column].drop(\"Total\", axis=0).plot.pie(\n",
    "        figsize=(12, 8),\n",
    "        title=f\"Total = {total_time_per_project.loc['Total', column]:.1f} hrs\",\n",
    "        ylabel=\"\",\n",
    "        colormap=cmap,\n",
    "        autopct=\"%1.1f%%\",\n",
    "    )\n",
    "\n",
    "    plt.legend(\n",
    "        loc=\"upper left\",\n",
    "        bbox_to_anchor=(1.05, 1),\n",
    "    );"
   ]
  },
  {
   "cell_type": "markdown",
   "id": "3d8ecc67",
   "metadata": {},
   "source": [
    "### Total time spent on tasks per project (across all 3 weeks)"
   ]
  },
  {
   "cell_type": "code",
   "execution_count": null,
   "id": "0d5f9178",
   "metadata": {},
   "outputs": [],
   "source": [
    "columns = np.sort(data.Task.dropna().unique())\n",
    "tasks_per_project = pd.DataFrame(columns=columns)\n",
    "\n",
    "for project in np.sort(data.Project.dropna().unique()):\n",
    "    tasks_per_project.loc[project] = (\n",
    "        data[data.Project == project].groupby(\"Task\")[\"Duration\"].sum()\n",
    "    )\n",
    "\n",
    "tasks_per_project[\"Total\"] = tasks_per_project.sum(axis=1)\n",
    "tasks_per_project = tasks_per_project.T"
   ]
  },
  {
   "cell_type": "code",
   "execution_count": null,
   "id": "2dbbe15a",
   "metadata": {},
   "outputs": [],
   "source": [
    "@interact\n",
    "def plot_tasks_per_project(column=tasks_per_project.columns.tolist()):\n",
    "    tasks_per_project[column].drop(\"Total\", axis=0).plot.pie(\n",
    "        figsize=(12, 8),\n",
    "        title=f\"Total = {tasks_per_project.loc['Total', column]:.1f} hrs\",\n",
    "        ylabel=\"\",\n",
    "        colormap=cmap,\n",
    "        autopct=\"%1.1f%%\",\n",
    "    )\n",
    "\n",
    "    plt.legend(\n",
    "        loc=\"upper left\",\n",
    "        bbox_to_anchor=(1.05, 1),\n",
    "    );"
   ]
  },
  {
   "cell_type": "markdown",
   "id": "acaf1003",
   "metadata": {},
   "source": [
    "### Tasks per Weekday"
   ]
  },
  {
   "cell_type": "code",
   "execution_count": null,
   "id": "f7965a8a",
   "metadata": {},
   "outputs": [],
   "source": [
    "# Create a MultiIndex for week number and day of week\n",
    "MultiIndex = list(\n",
    "    product(\n",
    "        np.sort(data.week_number.dropna().unique()),\n",
    "        day_cats,\n",
    "    )\n",
    ")\n",
    "index = pd.MultiIndex.from_tuples(MultiIndex, names=[\"week_number\", \"day_of_week\"])"
   ]
  },
  {
   "cell_type": "code",
   "execution_count": null,
   "id": "e709282c",
   "metadata": {},
   "outputs": [],
   "source": [
    "columns = np.sort(data.Task.dropna().unique())\n",
    "tasks_per_weekday = pd.DataFrame(columns=columns, index=index)\n",
    "\n",
    "result = product(np.sort(data.week_number.dropna().unique()), day_cats)\n",
    "\n",
    "for i, (week_num, day) in enumerate(result):\n",
    "    tasks_per_weekday.loc[week_num, day] = (\n",
    "        data[(data.week_number == week_num) & (data.day_of_week == day)]\n",
    "        .groupby(\"Task\")[\"Duration\"]\n",
    "        .sum()\n",
    "    )\n",
    "\n",
    "tasks_per_weekday[\"Total\"] = tasks_per_weekday.sum(axis=1)"
   ]
  },
  {
   "cell_type": "code",
   "execution_count": null,
   "id": "7372c4c9",
   "metadata": {},
   "outputs": [],
   "source": [
    "@interact\n",
    "def plot_tasks_per_weekday(\n",
    "    week_num=tasks_per_weekday.index.get_level_values(\"week_number\").unique().tolist(),\n",
    "):\n",
    "    tasks_per_weekday.loc[week_num, :].drop(\"Total\", axis=1).plot.bar(\n",
    "        figsize=(12, 8),\n",
    "        title=f\"Week number: {week_num}\",\n",
    "        xlabel=\"Day of Week\",\n",
    "        ylabel=\"Hours clocked\",\n",
    "        colormap=cmap,\n",
    "        stacked=True,\n",
    "    )\n",
    "\n",
    "    plt.legend(\n",
    "        loc=\"upper left\",\n",
    "        bbox_to_anchor=(1.05, 1),\n",
    "    );"
   ]
  },
  {
   "cell_type": "markdown",
   "id": "5d472942",
   "metadata": {},
   "source": [
    "### Projects per weekday"
   ]
  },
  {
   "cell_type": "code",
   "execution_count": null,
   "id": "3202a435",
   "metadata": {},
   "outputs": [],
   "source": [
    "columns = np.sort(data.Project.dropna().unique())\n",
    "projects_per_weekday = pd.DataFrame(columns=columns, index=index)\n",
    "\n",
    "result = product(np.sort(data.week_number.dropna().unique()), day_cats)\n",
    "\n",
    "for i, (week_num, day) in enumerate(result):\n",
    "    projects_per_weekday.loc[week_num, day] = (\n",
    "        data[(data.week_number == week_num) & (data.day_of_week == day)]\n",
    "        .groupby(\"Project\")[\"Duration\"]\n",
    "        .sum()\n",
    "    )\n",
    "\n",
    "projects_per_weekday[\"Total\"] = projects_per_weekday.sum(axis=1)"
   ]
  },
  {
   "cell_type": "code",
   "execution_count": null,
   "id": "75f066b9",
   "metadata": {},
   "outputs": [],
   "source": [
    "@interact\n",
    "def plot_projects_per_weekday(\n",
    "    week_num=projects_per_weekday.index.get_level_values(\"week_number\")\n",
    "    .unique()\n",
    "    .tolist(),\n",
    "):\n",
    "    projects_per_weekday.loc[week_num, :].drop(\"Total\", axis=1).plot.bar(\n",
    "        figsize=(12, 8),\n",
    "        title=f\"Week number: {week_num}\",\n",
    "        xlabel=\"Day of Week\",\n",
    "        ylabel=\"Hours clocked\",\n",
    "        colormap=cmap,\n",
    "        stacked=True,\n",
    "    )\n",
    "\n",
    "    plt.legend(\n",
    "        loc=\"upper left\",\n",
    "        bbox_to_anchor=(1.05, 1),\n",
    "    );"
   ]
  },
  {
   "cell_type": "markdown",
   "id": "f7a37e89",
   "metadata": {},
   "source": [
    "### Work Schedule"
   ]
  },
  {
   "cell_type": "code",
   "execution_count": null,
   "id": "eed4049d",
   "metadata": {},
   "outputs": [],
   "source": [
    "# Create dataframe of start and end times grouped by week number of day of the week\n",
    "start_times = data.groupby([\"week_number\", \"day_of_week\"])[\"dt_start\"].min()\n",
    "end_times = data.groupby([\"week_number\", \"day_of_week\"])[\"dt_end\"].max()\n",
    "schedule_df = pd.DataFrame({\"start\": start_times.dt.time, \"end\": end_times.dt.time})"
   ]
  },
  {
   "cell_type": "code",
   "execution_count": null,
   "id": "dca3bc34",
   "metadata": {},
   "outputs": [],
   "source": [
    "pd.plotting.register_matplotlib_converters()\n",
    "\n",
    "result = product(\n",
    "    np.sort(schedule_df.index.get_level_values(\"week_number\").dropna().unique())[::-1],\n",
    "    day_cats[::-1],\n",
    ")\n",
    "\n",
    "y_labels = []\n",
    "\n",
    "fig, ax = plt.subplots(figsize=(12, 8))\n",
    "for i, (week_num, weekday) in enumerate(result):\n",
    "    try:\n",
    "        ax.plot(schedule_df.loc[week_num, weekday], [i + 1, i + 1], c=cmap(i), lw=15)\n",
    "        y_labels.append(f\"{week_num} / {weekday}\")\n",
    "    except KeyError:\n",
    "        pass\n",
    "\n",
    "ax.set_yticks(range(1, 15))\n",
    "ax.set_yticklabels(y_labels)\n",
    "ax.set_ylabel(\"Week # / Day of Week\")\n",
    "\n",
    "day_range = pd.date_range(\"08:00:00\", periods=12, freq=\"H\").strftime(\"%H:%M:%S\")\n",
    "ax.set_xticks(day_range.values.tolist())\n",
    "ax.set_xlabel(\"Time\");"
   ]
  },
  {
   "cell_type": "markdown",
   "id": "36c54c83",
   "metadata": {},
   "source": [
    "### Tracking GitHub Activity"
   ]
  },
  {
   "cell_type": "code",
   "execution_count": null,
   "id": "019e56ba",
   "metadata": {},
   "outputs": [],
   "source": [
    "from datetime import datetime\n",
    "from ghapi.all import GhApi, github_token, paged\n",
    "\n",
    "token = (\n",
    "    github_token() if \"GITHUB_TOKEN\" not in os.environ else os.environ[\"GITHUB_TOKEN\"]\n",
    ")\n",
    "\n",
    "api = GhApi(token=token)"
   ]
  },
  {
   "cell_type": "code",
   "execution_count": null,
   "id": "baeae866",
   "metadata": {},
   "outputs": [],
   "source": [
    "since_date = data.loc[0].dt_start\n",
    "until_date = data.loc[len(data) - 1].dt_end\n",
    "\n",
    "since_date_str = since_date.strftime(\"%Y-%m-%dT%H:%M:%SZ\")\n",
    "until_date_str = until_date.strftime(\"%Y-%m-%dT%H:%M:%SZ\")"
   ]
  },
  {
   "cell_type": "code",
   "execution_count": null,
   "id": "340644de",
   "metadata": {},
   "outputs": [],
   "source": [
    "issues = api.issues.list_for_authenticated_user(\n",
    "    filter=\"created\", state=\"open\", since=since_date_str, pulls=False\n",
    ")\n",
    "indices_to_remove = []\n",
    "\n",
    "for i, issue in enumerate(issues):\n",
    "    created_at = datetime.strptime(issue[\"created_at\"], \"%Y-%m-%dT%H:%M:%SZ\")\n",
    "\n",
    "    # If earlier than since_date or later than until_date\n",
    "    if ((created_at - since_date) < pd.to_timedelta(0)) or (\n",
    "        (created_at - until_date) > pd.to_timedelta(0)\n",
    "    ):\n",
    "        indices_to_remove.append(i)\n",
    "\n",
    "for index in sorted(indices_to_remove, reverse=True):\n",
    "    del issues[index]\n",
    "len(issues)"
   ]
  },
  {
   "cell_type": "code",
   "execution_count": null,
   "id": "de8b30d5",
   "metadata": {},
   "outputs": [],
   "source": []
  }
 ],
 "metadata": {
  "kernelspec": {
   "display_name": "Python 3 (toggl-track)",
   "language": "python",
   "name": "toggl-track"
  },
  "language_info": {
   "codemirror_mode": {
    "name": "ipython",
    "version": 3
   },
   "file_extension": ".py",
   "mimetype": "text/x-python",
   "name": "python",
   "nbconvert_exporter": "python",
   "pygments_lexer": "ipython3",
   "version": "3.8.8"
  }
 },
 "nbformat": 4,
 "nbformat_minor": 5
}
