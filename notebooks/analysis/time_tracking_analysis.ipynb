{
 "cells": [
  {
   "cell_type": "markdown",
   "id": "096f5422",
   "metadata": {},
   "source": [
    "## Analysis of Time Tracking Data\n",
    "\n",
    "The below graphs visualise my data from a time tracking app over a 3 week period. The aim is to gain a better understanding of where my time goes in terms of tasks and projects.\n",
    "\n",
    "Some important points to note when considering these graphs:\n",
    "\n",
    "- The Monday of the first week was a Bank Holiday in the UK\n",
    "- These plots only represent the **time I entered into the app**, not the total time I worked.\n",
    "  This is particularly noticeable in the first week when I wasn't very strict about logging everything.\n",
    "  In the second and third weeks, I become more consistent.\n",
    "- The specific tasks and projects I logged have been anonymised to protect myself (pleading the 5th!) and anyone I might have collaborated with from being identified."
   ]
  },
  {
   "cell_type": "code",
   "execution_count": null,
   "id": "419c459c",
   "metadata": {},
   "outputs": [],
   "source": [
    "# Import required packages\n",
    "import os\n",
    "import fnmatch\n",
    "import matplotlib\n",
    "import numpy as np\n",
    "import pandas as pd\n",
    "import matplotlib.pyplot as plt\n",
    "from itertools import product\n",
    "from ipywidgets import interact\n",
    "\n",
    "%matplotlib inline\n",
    "cmap = matplotlib.cm.get_cmap(\"tab20\")\n",
    "\n",
    "days = [\"Monday\", \"Tuesday\", \"Wednesday\", \"Thursday\", \"Friday\"]"
   ]
  },
  {
   "cell_type": "code",
   "execution_count": null,
   "id": "a2fa4513",
   "metadata": {},
   "outputs": [],
   "source": [
    "# Setting filepaths\n",
    "#\n",
    "# Get Current Working Directory\n",
    "CWD = os.getcwd()\n",
    "\n",
    "# Set Relative and Absolute filepaths for clean data\n",
    "CLEAN_DATA_RELPATH = os.path.join(os.pardir, os.pardir, \"data\", \"clean\")\n",
    "CLEAN_DATA_ABSPATH = os.path.join(CWD, CLEAN_DATA_RELPATH)"
   ]
  },
  {
   "cell_type": "code",
   "execution_count": null,
   "id": "660c8c1d",
   "metadata": {},
   "outputs": [],
   "source": [
    "# Find data files\n",
    "datafiles = fnmatch.filter(\n",
    "    os.listdir(CLEAN_DATA_ABSPATH),\n",
    "    \"[0-9]{4}-[0-9]{2}-[0-9]{2}_[0-9]{4}-[0-9]{2}-[0-9]{2}.csv\",\n",
    ")"
   ]
  },
  {
   "cell_type": "code",
   "execution_count": null,
   "id": "01350f04",
   "metadata": {},
   "outputs": [],
   "source": [
    "# Read in the first datafile\n",
    "filepath = os.path.join(CLEAN_DATA_ABSPATH, datafiles[0])\n",
    "data = pd.read_csv(\n",
    "    filepath,\n",
    "    converters={\n",
    "        \"dt_start\": pd.to_datetime,\n",
    "        \"dt_end\": pd.to_datetime,\n",
    "        \"Duration\": pd.to_timedelta,\n",
    "    },\n",
    "    na_values=[0.0, \"None\"],\n",
    ")\n",
    "\n",
    "# Sort the data by start date\n",
    "data.sort_values(\"dt_start\", inplace=True, ignore_index=True)\n",
    "\n",
    "# Convert `Duration` into hours\n",
    "data[\"Duration\"] = data[\"Duration\"] / np.timedelta64(1, \"h\")"
   ]
  },
  {
   "cell_type": "markdown",
   "id": "e69408a2",
   "metadata": {},
   "source": [
    "### Total time spent on tasks per week"
   ]
  },
  {
   "cell_type": "code",
   "execution_count": null,
   "id": "a07bedd0",
   "metadata": {},
   "outputs": [],
   "source": [
    "# Calculate total duration per task per week number\n",
    "total_time_per_task = pd.DataFrame({})\n",
    "for task in np.sort(data.Task.dropna().unique()):\n",
    "    total_time_per_task[task] = (\n",
    "        data[data.Task == task].groupby(\"week_num\")[\"Duration\"].sum()\n",
    "    )\n",
    "\n",
    "total_time_per_task[\"Total\"] = data.groupby(\"week_num\")[\"Duration\"].sum()\n",
    "total_time_per_task = total_time_per_task.T"
   ]
  },
  {
   "cell_type": "code",
   "execution_count": null,
   "id": "a8978cb1",
   "metadata": {},
   "outputs": [],
   "source": [
    "@interact\n",
    "def plot_total_time_per_task(column=total_time_per_task.columns.tolist()):\n",
    "    total_time_per_task[column].drop(\"Total\", axis=0).sort_values().dropna().plot.pie(\n",
    "        figsize=(12, 8),\n",
    "        title=f\"Total = {total_time_per_task.loc['Total', column]:.1f} hrs\",\n",
    "        ylabel=\"\",\n",
    "        colormap=cmap,\n",
    "        autopct=\"%1.1f%%\",\n",
    "    )\n",
    "\n",
    "    plt.legend(\n",
    "        loc=\"upper left\",\n",
    "        bbox_to_anchor=(1.05, 1),\n",
    "    );"
   ]
  },
  {
   "cell_type": "markdown",
   "id": "265987fe",
   "metadata": {},
   "source": [
    "### Total time spent on projects per week"
   ]
  },
  {
   "cell_type": "code",
   "execution_count": null,
   "id": "38572a04",
   "metadata": {},
   "outputs": [],
   "source": [
    "total_time_per_project = pd.DataFrame({})\n",
    "\n",
    "for project in np.sort(data.Project.dropna().unique()):\n",
    "    total_time_per_project[project] = (\n",
    "        data[data.Project == project].groupby(\"week_num\")[\"Duration\"].sum()\n",
    "    )\n",
    "\n",
    "total_time_per_project[\"Total\"] = data.groupby(\"week_num\")[\"Duration\"].sum()\n",
    "total_time_per_project = total_time_per_project.T.sort_index()"
   ]
  },
  {
   "cell_type": "code",
   "execution_count": null,
   "id": "6390262e",
   "metadata": {},
   "outputs": [],
   "source": [
    "@interact\n",
    "def plot_total_time_per_project(column=total_time_per_project.columns.tolist()):\n",
    "    total_time_per_project[column].drop(\n",
    "        \"Total\", axis=0\n",
    "    ).sort_values().dropna().plot.pie(\n",
    "        figsize=(12, 8),\n",
    "        title=f\"Total = {total_time_per_project.loc['Total', column]:.1f} hrs\",\n",
    "        ylabel=\"\",\n",
    "        colormap=cmap,\n",
    "        autopct=\"%1.1f%%\",\n",
    "    )\n",
    "\n",
    "    plt.legend(\n",
    "        loc=\"upper left\",\n",
    "        bbox_to_anchor=(1.05, 1),\n",
    "    );"
   ]
  },
  {
   "cell_type": "markdown",
   "id": "3d8ecc67",
   "metadata": {},
   "source": [
    "### Total time spent on tasks per project (across all 3 weeks)\n",
    "\n",
    "Due to the anonymisation process, this isn't the most useful mapping of tasks to project. However, consider this me pleading the 5th and not giving evidence against myself! Whether the evidence is damning or not is left as an exercise for the reader 😉"
   ]
  },
  {
   "cell_type": "code",
   "execution_count": null,
   "id": "0d5f9178",
   "metadata": {},
   "outputs": [],
   "source": [
    "columns = np.sort(data.Task.dropna().unique())\n",
    "tasks_per_project = pd.DataFrame(columns=columns)\n",
    "\n",
    "for project in np.sort(data.Project.dropna().unique()):\n",
    "    tasks_per_project.loc[project] = (\n",
    "        data[data.Project == project].groupby(\"Task\")[\"Duration\"].sum()\n",
    "    )\n",
    "\n",
    "tasks_per_project[\"Total\"] = tasks_per_project.sum(axis=1)\n",
    "tasks_per_project = tasks_per_project.T"
   ]
  },
  {
   "cell_type": "code",
   "execution_count": null,
   "id": "2dbbe15a",
   "metadata": {},
   "outputs": [],
   "source": [
    "@interact\n",
    "def plot_tasks_per_project(column=tasks_per_project.columns.tolist()):\n",
    "    tasks_per_project[column].drop(\"Total\", axis=0).sort_values().dropna().plot.pie(\n",
    "        figsize=(12, 8),\n",
    "        title=f\"Total = {tasks_per_project.loc['Total', column]:.1f} hrs\",\n",
    "        ylabel=\"\",\n",
    "        colormap=cmap,\n",
    "        autopct=\"%1.1f%%\",\n",
    "    )\n",
    "\n",
    "    plt.legend(\n",
    "        loc=\"upper left\",\n",
    "        bbox_to_anchor=(1.05, 1),\n",
    "    );"
   ]
  },
  {
   "cell_type": "markdown",
   "id": "acaf1003",
   "metadata": {},
   "source": [
    "### Tasks per Weekday"
   ]
  },
  {
   "cell_type": "code",
   "execution_count": null,
   "id": "f7965a8a",
   "metadata": {},
   "outputs": [],
   "source": [
    "# Create a MultiIndex for week number and day of week\n",
    "MultiIndex = list(\n",
    "    product(\n",
    "        np.sort(data.week_num.dropna().unique()),\n",
    "        days,\n",
    "    )\n",
    ")\n",
    "index = pd.MultiIndex.from_tuples(MultiIndex, names=[\"week_num\", \"weekday\"])"
   ]
  },
  {
   "cell_type": "code",
   "execution_count": null,
   "id": "e709282c",
   "metadata": {},
   "outputs": [],
   "source": [
    "columns = np.sort(data.Task.dropna().unique())\n",
    "tasks_per_weekday = pd.DataFrame(columns=columns, index=index)\n",
    "\n",
    "result = product(np.sort(data.week_num.dropna().unique()), days)\n",
    "\n",
    "for i, (week_num, weekday) in enumerate(result):\n",
    "    tasks_per_weekday.loc[week_num, weekday] = (\n",
    "        data[(data.week_num == week_num) & (data.weekday == weekday)]\n",
    "        .groupby(\"Task\")[\"Duration\"]\n",
    "        .sum()\n",
    "    )\n",
    "\n",
    "tasks_per_weekday[\"Total\"] = tasks_per_weekday.sum(axis=1)"
   ]
  },
  {
   "cell_type": "code",
   "execution_count": null,
   "id": "7372c4c9",
   "metadata": {},
   "outputs": [],
   "source": [
    "@interact\n",
    "def plot_tasks_per_weekday(\n",
    "    week_num=tasks_per_weekday.index.get_level_values(\"week_num\").unique().tolist(),\n",
    "):\n",
    "    tasks_per_weekday.loc[week_num, :].drop(\"Total\", axis=1).plot.bar(\n",
    "        figsize=(12, 8),\n",
    "        title=f\"Week number: {week_num}\",\n",
    "        xlabel=\"Weekday\",\n",
    "        ylabel=\"Hours clocked\",\n",
    "        colormap=cmap,\n",
    "        stacked=True,\n",
    "    )\n",
    "\n",
    "    plt.xticks(rotation=45)\n",
    "\n",
    "    plt.legend(\n",
    "        loc=\"upper left\",\n",
    "        bbox_to_anchor=(1.05, 1),\n",
    "    );"
   ]
  },
  {
   "cell_type": "markdown",
   "id": "5d472942",
   "metadata": {},
   "source": [
    "### Projects per weekday"
   ]
  },
  {
   "cell_type": "code",
   "execution_count": null,
   "id": "3202a435",
   "metadata": {},
   "outputs": [],
   "source": [
    "columns = np.sort(data.Project.dropna().unique())\n",
    "projects_per_weekday = pd.DataFrame(columns=columns, index=index)\n",
    "\n",
    "result = product(np.sort(data.week_num.dropna().unique()), days)\n",
    "\n",
    "for i, (week_num, weekday) in enumerate(result):\n",
    "    projects_per_weekday.loc[week_num, weekday] = (\n",
    "        data[(data.week_num == week_num) & (data.weekday == weekday)]\n",
    "        .groupby(\"Project\")[\"Duration\"]\n",
    "        .sum()\n",
    "    )\n",
    "\n",
    "projects_per_weekday[\"Total\"] = projects_per_weekday.sum(axis=1)"
   ]
  },
  {
   "cell_type": "code",
   "execution_count": null,
   "id": "75f066b9",
   "metadata": {},
   "outputs": [],
   "source": [
    "@interact\n",
    "def plot_projects_per_weekday(\n",
    "    week_num=projects_per_weekday.index.get_level_values(\"week_num\").unique().tolist(),\n",
    "):\n",
    "    projects_per_weekday.loc[week_num, :].drop(\"Total\", axis=1).plot.bar(\n",
    "        figsize=(12, 8),\n",
    "        title=f\"Week number: {week_num}\",\n",
    "        xlabel=\"Weekday\",\n",
    "        ylabel=\"Hours clocked\",\n",
    "        colormap=cmap,\n",
    "        stacked=True,\n",
    "    )\n",
    "\n",
    "    plt.xticks(rotation=45)\n",
    "\n",
    "    plt.legend(\n",
    "        loc=\"upper left\",\n",
    "        bbox_to_anchor=(1.05, 1),\n",
    "    );"
   ]
  },
  {
   "cell_type": "markdown",
   "id": "4a6b1f1b",
   "metadata": {},
   "source": [
    "### Tool Usage over a Single Day\n",
    "\n",
    "Unfortunately, the data that allows me to assess how much time I spend using particular tools expires after 1 week. Due to a misunderstanding of how the app worked and some back and forth with the dev team, I was only able to retrieve data for a single day within the observation window."
   ]
  },
  {
   "cell_type": "code",
   "execution_count": null,
   "id": "02b59eb0",
   "metadata": {},
   "outputs": [],
   "source": [
    "# Read in timeline data\n",
    "timeline_path = os.path.join(CLEAN_DATA_ABSPATH, \"timeline.csv\")\n",
    "timeline = pd.read_csv(\n",
    "    timeline_path,\n",
    "    converters={\n",
    "        \"dt_start\": pd.to_datetime,\n",
    "        \"dt_end\": pd.to_datetime,\n",
    "        \"Duration\": pd.to_timedelta,\n",
    "    },\n",
    ")"
   ]
  },
  {
   "cell_type": "code",
   "execution_count": null,
   "id": "f193c303",
   "metadata": {},
   "outputs": [],
   "source": [
    "# Drop unwanted column\n",
    "if \"idle\" in timeline.columns.tolist():\n",
    "    timeline.drop(\"idle\", axis=1, inplace=True)\n",
    "\n",
    "# Create a Date column\n",
    "timeline[\"Date\"] = timeline[\"dt_start\"].dt.date\n",
    "\n",
    "# Convert `Duration` to hour units\n",
    "timeline[\"Duration\"] = timeline[\"Duration\"] / np.timedelta64(1, \"h\")\n",
    "\n",
    "# Remove dates from beyond the end of the observation period\n",
    "end_date = data[\"dt_end\"].dt.date.max()\n",
    "timeline.drop(\n",
    "    timeline.index[timeline[\"Date\"] - end_date > pd.to_timedelta(0)].tolist(),\n",
    "    inplace=True,\n",
    ")"
   ]
  },
  {
   "cell_type": "code",
   "execution_count": null,
   "id": "9d0ba8b4",
   "metadata": {},
   "outputs": [],
   "source": [
    "# Calculate duration of use per tool\n",
    "duration_per_tool = timeline.groupby(\"Tool\")[\"Duration\"].sum()\n",
    "\n",
    "# Calculate total duration across all tools\n",
    "total_time = duration_per_tool.sum()"
   ]
  },
  {
   "cell_type": "code",
   "execution_count": null,
   "id": "996d95bd",
   "metadata": {},
   "outputs": [],
   "source": [
    "# Produce Pie plot\n",
    "duration_per_tool.sort_values().dropna()[duration_per_tool >= 0.05].plot.pie(\n",
    "    figsize=(12, 8),\n",
    "    title=f\"Date: {timeline['Date'].unique().tolist()[0].strftime('%Y-%m-%d')}\\nTotal = {total_time:.1f} hrs\",\n",
    "    ylabel=\"\",\n",
    "    colormap=cmap,\n",
    "    autopct=\"%1.1f%%\",\n",
    "    pctdistance=0.85,\n",
    ")\n",
    "\n",
    "plt.legend(\n",
    "    loc=\"upper left\",\n",
    "    bbox_to_anchor=(1.05, 1),\n",
    ");"
   ]
  },
  {
   "cell_type": "markdown",
   "id": "c662b683",
   "metadata": {},
   "source": [
    "### Tool Usage per Project over a Single Day"
   ]
  },
  {
   "cell_type": "code",
   "execution_count": null,
   "id": "f5c6faca",
   "metadata": {},
   "outputs": [],
   "source": [
    "# Mask the time entries data\n",
    "data[\"Date\"] = data.dt_start.dt.date\n",
    "masked_data = data[data.Date == timeline.Date.unique().tolist()[0]].head()"
   ]
  },
  {
   "cell_type": "code",
   "execution_count": null,
   "id": "79283918",
   "metadata": {},
   "outputs": [],
   "source": [
    "# Assign a Project to each timeline entry\n",
    "result = product(timeline.iterrows(), masked_data.iterrows())\n",
    "\n",
    "for i, res in enumerate(result):\n",
    "    (i, tl_row), (_, dt_row) = res\n",
    "\n",
    "    is_within_time_frame = (\n",
    "        (tl_row.dt_start - dt_row.dt_start) >= pd.to_timedelta(0)\n",
    "    ) & ((tl_row.dt_end - dt_row.dt_end) <= pd.to_timedelta(0))\n",
    "\n",
    "    if is_within_time_frame:\n",
    "        timeline.loc[i, \"Project\"] = dt_row.Project"
   ]
  },
  {
   "cell_type": "code",
   "execution_count": null,
   "id": "92d43312",
   "metadata": {},
   "outputs": [],
   "source": [
    "columns = np.sort(timeline.Tool.dropna().unique())\n",
    "tools_per_project = pd.DataFrame(columns=columns)\n",
    "\n",
    "for project in np.sort(timeline.Project.dropna().unique()):\n",
    "    tools_per_project.loc[project] = (\n",
    "        timeline[timeline.Project == project].groupby(\"Tool\")[\"Duration\"].sum()\n",
    "    )\n",
    "\n",
    "tools_per_project[\"Total\"] = tools_per_project.sum(axis=1)\n",
    "tools_per_project = tools_per_project.T"
   ]
  },
  {
   "cell_type": "code",
   "execution_count": null,
   "id": "6b6ca1a8",
   "metadata": {
    "scrolled": true
   },
   "outputs": [],
   "source": [
    "@interact\n",
    "def plot_tools_per_project(column=tools_per_project.columns.tolist()):\n",
    "    tools_per_project[column][tools_per_project[column] >= 0.05].drop(\n",
    "        \"Total\", axis=0\n",
    "    ).sort_values().dropna().plot.pie(\n",
    "        figsize=(12, 8),\n",
    "        title=f\"Total = {tools_per_project.loc['Total', column]:.1f} hrs\",\n",
    "        ylabel=\"\",\n",
    "        colormap=cmap,\n",
    "        autopct=\"%1.1f%%\",\n",
    "        normalize=True,\n",
    "    )\n",
    "\n",
    "    plt.legend(\n",
    "        loc=\"upper left\",\n",
    "        bbox_to_anchor=(1.05, 1),\n",
    "    );"
   ]
  },
  {
   "cell_type": "markdown",
   "id": "f7a37e89",
   "metadata": {},
   "source": [
    "### Work Schedule"
   ]
  },
  {
   "cell_type": "code",
   "execution_count": null,
   "id": "eed4049d",
   "metadata": {},
   "outputs": [],
   "source": [
    "# Create dataframe of start and end times grouped by week number of day of the week\n",
    "start_times = data.groupby([\"week_num\", \"weekday\"])[\"dt_start\"].min()\n",
    "end_times = data.groupby([\"week_num\", \"weekday\"])[\"dt_end\"].max()\n",
    "schedule_df = pd.DataFrame({\"start\": start_times.dt.time, \"end\": end_times.dt.time})"
   ]
  },
  {
   "cell_type": "code",
   "execution_count": null,
   "id": "dca3bc34",
   "metadata": {},
   "outputs": [],
   "source": [
    "pd.plotting.register_matplotlib_converters()\n",
    "\n",
    "result = product(\n",
    "    np.sort(schedule_df.index.get_level_values(\"week_num\").dropna().unique())[::-1],\n",
    "    days[::-1],\n",
    ")\n",
    "\n",
    "y_labels = []\n",
    "\n",
    "fig, ax = plt.subplots(figsize=(12, 8))\n",
    "for i, (week_num, weekday) in enumerate(result):\n",
    "    try:\n",
    "        ax.plot(schedule_df.loc[week_num, weekday], [i + 1, i + 1], c=cmap(i), lw=15)\n",
    "        y_labels.append(f\"{week_num} / {weekday}\")\n",
    "    except KeyError:\n",
    "        pass\n",
    "\n",
    "ax.set_yticks(range(1, 15))\n",
    "ax.set_yticklabels(y_labels)\n",
    "ax.set_ylabel(\"Week # / Day of Week\")\n",
    "\n",
    "day_range = pd.date_range(\"08:00:00\", periods=12, freq=\"H\").strftime(\"%H:%M:%S\")\n",
    "ax.set_xticks(day_range.values.tolist())\n",
    "ax.set_xlabel(\"Time\");"
   ]
  }
 ],
 "metadata": {
  "kernelspec": {
   "display_name": "Python 3 (toggl-track)",
   "language": "python",
   "name": "toggl-track"
  },
  "language_info": {
   "codemirror_mode": {
    "name": "ipython",
    "version": 3
   },
   "file_extension": ".py",
   "mimetype": "text/x-python",
   "name": "python",
   "nbconvert_exporter": "python",
   "pygments_lexer": "ipython3",
   "version": "3.8.8"
  }
 },
 "nbformat": 4,
 "nbformat_minor": 5
}
