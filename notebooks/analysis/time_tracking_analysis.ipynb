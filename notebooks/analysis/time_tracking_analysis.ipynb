{
 "cells": [
  {
   "cell_type": "code",
   "execution_count": null,
   "id": "419c459c",
   "metadata": {},
   "outputs": [],
   "source": [
    "import os\n",
    "import fnmatch\n",
    "import matplotlib\n",
    "import numpy as np\n",
    "import pandas as pd\n",
    "import matplotlib.pyplot as plt\n",
    "\n",
    "%matplotlib inline"
   ]
  },
  {
   "cell_type": "code",
   "execution_count": null,
   "id": "a2fa4513",
   "metadata": {},
   "outputs": [],
   "source": [
    "# Setting filepaths\n",
    "#\n",
    "# Get Current Working Directory\n",
    "CWD = os.getcwd()\n",
    "\n",
    "# Set Relative and Absolute filepaths for clean data\n",
    "CLEAN_DATA_RELPATH = os.path.join(os.pardir, os.pardir, \"data\", \"clean\")\n",
    "CLEAN_DATA_ABSPATH = os.path.join(CWD, CLEAN_DATA_RELPATH)"
   ]
  },
  {
   "cell_type": "code",
   "execution_count": null,
   "id": "660c8c1d",
   "metadata": {},
   "outputs": [],
   "source": [
    "# Find data files\n",
    "datafiles = fnmatch.filter(os.listdir(CLEAN_DATA_ABSPATH), \"*.csv\")"
   ]
  },
  {
   "cell_type": "code",
   "execution_count": null,
   "id": "01350f04",
   "metadata": {},
   "outputs": [],
   "source": [
    "# Read in the first datafile\n",
    "filepath = os.path.join(CLEAN_DATA_ABSPATH, datafiles[0])\n",
    "data = pd.read_csv(filepath, converters={\"dt_start\": pd.to_datetime, \"dt_end\": pd.to_datetime, \"Duration\": pd.to_timedelta}, na_values=0.0)\n",
    "\n",
    "# Sort the data by start date\n",
    "data.sort_values(\"dt_start\", inplace=True, ignore_index=True)\n",
    "\n",
    "# Convert `Duration` into hours\n",
    "data[\"Duration\"] = data[\"Duration\"] / np.timedelta64(1, \"h\")"
   ]
  },
  {
   "cell_type": "markdown",
   "id": "e69408a2",
   "metadata": {},
   "source": [
    "### Calculate total duration per task per week"
   ]
  },
  {
   "cell_type": "code",
   "execution_count": null,
   "id": "f803b719",
   "metadata": {},
   "outputs": [],
   "source": [
    "# Calculate total duration per week number\n",
    "total_duration = data.groupby(\"week_number\")[\"Duration\"].sum().reset_index()\n",
    "duration_per_task = pd.DataFrame({})\n",
    "\n",
    "# Calculate total duration per task per week number\n",
    "for task in data[\"Task\"].dropna().unique():\n",
    "    duration_per_task[task] = data[data[\"Task\"] == task].groupby(\"week_number\")[\"Duration\"].sum()\n",
    "    duration_per_task[task] = [i / j * 100 for i, j in zip(duration_per_task[task], total_duration[\"Duration\"])]\n",
    "\n",
    "duration_per_task = duration_per_task.cumsum(axis=1)\n",
    "duration_per_task.reset_index(inplace=True)"
   ]
  },
  {
   "cell_type": "code",
   "execution_count": null,
   "id": "b19744b4",
   "metadata": {},
   "outputs": [],
   "source": [
    "# Create a stacked percentage plot of the data\n",
    "cmap = matplotlib.cm.get_cmap(\"tab20\")\n",
    "increments = np.linspace(0, 1, num=len(duration_per_task.columns.tolist())-1, endpoint=True)\n",
    "\n",
    "plt.figure(figsize=(10,6))\n",
    "barWidth = 0.85\n",
    "\n",
    "for i, task in enumerate(duration_per_task.columns.tolist()[::-1]):\n",
    "    if task == \"week_number\":\n",
    "        continue\n",
    "\n",
    "    plt.bar(\n",
    "        duration_per_task[\"week_number\"],\n",
    "        duration_per_task[task],\n",
    "        color=cmap(increments[i]),\n",
    "        edgecolor=\"white\",\n",
    "        width=barWidth,\n",
    "        label=task,\n",
    "    )\n",
    "\n",
    "    if i == 0:\n",
    "        for j in range(len(total_duration)):\n",
    "            plt.annotate(\n",
    "                f'Total = {total_duration.loc[j, \"Duration\"]:.1f} hrs',\n",
    "                xy=(total_duration.loc[j, \"week_number\"], 100),\n",
    "                ha=\"center\",\n",
    "                va=\"bottom\",\n",
    "            )\n",
    "        \n",
    "plt.xticks(duration_per_task[\"week_number\"], duration_per_task[\"week_number\"].astype(str))\n",
    "plt.xlabel(\"Week Number\")\n",
    "plt.ylabel(\"Hours clocked (%)\")\n",
    "plt.legend(loc=\"upper left\", bbox_to_anchor=(1.05, 1))\n",
    "plt.title(\"Hours clocked per task per week\");\n"
   ]
  },
  {
   "cell_type": "code",
   "execution_count": null,
   "id": "a07bedd0",
   "metadata": {},
   "outputs": [],
   "source": []
  }
 ],
 "metadata": {
  "kernelspec": {
   "display_name": "Python 3 (toggl-track)",
   "language": "python",
   "name": "toggl-track"
  },
  "language_info": {
   "codemirror_mode": {
    "name": "ipython",
    "version": 3
   },
   "file_extension": ".py",
   "mimetype": "text/x-python",
   "name": "python",
   "nbconvert_exporter": "python",
   "pygments_lexer": "ipython3",
   "version": "3.8.8"
  }
 },
 "nbformat": 4,
 "nbformat_minor": 5
}
