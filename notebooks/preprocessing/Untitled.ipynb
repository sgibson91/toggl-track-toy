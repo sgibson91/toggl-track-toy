{
 "cells": [
  {
   "cell_type": "code",
   "execution_count": 39,
   "id": "cee4bf02",
   "metadata": {},
   "outputs": [],
   "source": [
    "import os\n",
    "import fnmatch\n",
    "import pandas as pd"
   ]
  },
  {
   "cell_type": "code",
   "execution_count": 40,
   "id": "755b88ab",
   "metadata": {},
   "outputs": [],
   "source": [
    "# Setting filepaths\n",
    "#\n",
    "# Get Current Working Directory\n",
    "CWD = os.getcwd()\n",
    "\n",
    "# Set Relative and Absolute filepaths for raw data\n",
    "RAW_DATA_RELPATH = os.path.join(os.pardir, os.pardir, \"data\", \"raw\")\n",
    "RAW_DATA_ABSPATH = os.path.join(CWD, RAW_DATA_RELPATH)\n",
    "\n",
    "# Set Relative and Absolute filepaths for clean data\n",
    "CLEAN_DATA_RELPATH = os.path.join(os.pardir, os.pardir, \"data\", \"clean\")\n",
    "CLEAN_DATA_ABSPATH = os.path.join(CWD, CLEAN_DATA_RELPATH)"
   ]
  },
  {
   "cell_type": "code",
   "execution_count": 41,
   "id": "3d778b89",
   "metadata": {},
   "outputs": [
    {
     "data": {
      "text/plain": [
       "['Toggl_time_entries_2021-04-19_to_2021-04-25.csv',\n",
       " 'Toggl_time_entries_2021-04-12_to_2021-04-18.csv',\n",
       " 'Toggl_time_entries_2021-04-05_to_2021-04-11.csv']"
      ]
     },
     "execution_count": 41,
     "metadata": {},
     "output_type": "execute_result"
    }
   ],
   "source": [
    "# Find data files\n",
    "datafiles = fnmatch.filter(os.listdir(RAW_DATA_ABSPATH), \"*time*.csv\")\n",
    "datafiles"
   ]
  },
  {
   "cell_type": "code",
   "execution_count": 45,
   "id": "fbe7cbc3",
   "metadata": {},
   "outputs": [
    {
     "name": "stdout",
     "output_type": "stream",
     "text": [
      "                Project        Description  Start date Start time    End date  \\\n",
      "0                  Self              Admin  2021-04-19   09:01:02  2021-04-19   \n",
      "1                   NaN       Paper Review  2021-04-19   09:18:42  2021-04-19   \n",
      "2  Living with Machines  Deduplifying JISC  2021-04-19   13:35:35  2021-04-19   \n",
      "3                   NaN       Paper Review  2021-04-20   09:00:28  2021-04-20   \n",
      "4                   OLS    Mentor Catch-up  2021-04-20   10:00:02  2021-04-20   \n",
      "\n",
      "   End time  Duration  \n",
      "0  09:18:35  00:17:33  \n",
      "1  12:04:10  02:45:28  \n",
      "2  16:23:27  02:47:52  \n",
      "3  10:00:54  01:00:26  \n",
      "4  11:00:35  01:00:33  \n"
     ]
    },
    {
     "data": {
      "text/html": [
       "<div>\n",
       "<style scoped>\n",
       "    .dataframe tbody tr th:only-of-type {\n",
       "        vertical-align: middle;\n",
       "    }\n",
       "\n",
       "    .dataframe tbody tr th {\n",
       "        vertical-align: top;\n",
       "    }\n",
       "\n",
       "    .dataframe thead th {\n",
       "        text-align: right;\n",
       "    }\n",
       "</style>\n",
       "<table border=\"1\" class=\"dataframe\">\n",
       "  <thead>\n",
       "    <tr style=\"text-align: right;\">\n",
       "      <th></th>\n",
       "      <th>Project</th>\n",
       "      <th>Description</th>\n",
       "      <th>Start date</th>\n",
       "      <th>Start time</th>\n",
       "      <th>End date</th>\n",
       "      <th>End time</th>\n",
       "      <th>Duration</th>\n",
       "    </tr>\n",
       "  </thead>\n",
       "  <tbody>\n",
       "    <tr>\n",
       "      <th>count</th>\n",
       "      <td>49</td>\n",
       "      <td>55</td>\n",
       "      <td>56</td>\n",
       "      <td>56</td>\n",
       "      <td>56</td>\n",
       "      <td>56</td>\n",
       "      <td>56</td>\n",
       "    </tr>\n",
       "    <tr>\n",
       "      <th>unique</th>\n",
       "      <td>7</td>\n",
       "      <td>41</td>\n",
       "      <td>14</td>\n",
       "      <td>55</td>\n",
       "      <td>14</td>\n",
       "      <td>56</td>\n",
       "      <td>41</td>\n",
       "    </tr>\n",
       "    <tr>\n",
       "      <th>top</th>\n",
       "      <td>OLS</td>\n",
       "      <td>Admin</td>\n",
       "      <td>2021-04-20</td>\n",
       "      <td>09:00:21</td>\n",
       "      <td>2021-04-20</td>\n",
       "      <td>10:00:29</td>\n",
       "      <td>01:30:00</td>\n",
       "    </tr>\n",
       "    <tr>\n",
       "      <th>freq</th>\n",
       "      <td>13</td>\n",
       "      <td>6</td>\n",
       "      <td>7</td>\n",
       "      <td>2</td>\n",
       "      <td>7</td>\n",
       "      <td>1</td>\n",
       "      <td>7</td>\n",
       "    </tr>\n",
       "  </tbody>\n",
       "</table>\n",
       "</div>"
      ],
      "text/plain": [
       "       Project Description  Start date Start time    End date  End time  \\\n",
       "count       49          55          56         56          56        56   \n",
       "unique       7          41          14         55          14        56   \n",
       "top        OLS       Admin  2021-04-20   09:00:21  2021-04-20  10:00:29   \n",
       "freq        13           6           7          2           7         1   \n",
       "\n",
       "        Duration  \n",
       "count         56  \n",
       "unique        41  \n",
       "top     01:30:00  \n",
       "freq           7  "
      ]
     },
     "execution_count": 45,
     "metadata": {},
     "output_type": "execute_result"
    }
   ],
   "source": [
    "# Concatenate all data files into single dataframe\n",
    "filename = os.path.join(RAW_DATA_ABSPATH, datafiles[0])\n",
    "df = pd.read_csv(filename)\n",
    "\n",
    "for datafile in datafiles[1:]:\n",
    "    filename = os.path.join(RAW_DATA_ABSPATH, datafile)\n",
    "    tmpdf = pd.read_csv(filename)\n",
    "    df = pd.concat([df, tmpdf])\n",
    "\n",
    "df.drop([\"User\", \"Email\", \"Client\", \"Task\", \"Billable\", \"Tags\", \"Amount ()\"], axis=1, inplace=True)    \n",
    "\n",
    "print(df.head())\n",
    "df.describe()"
   ]
  },
  {
   "cell_type": "code",
   "execution_count": null,
   "id": "e5f77e5e",
   "metadata": {},
   "outputs": [],
   "source": []
  }
 ],
 "metadata": {
  "kernelspec": {
   "display_name": "Python 3 (toggl-track)",
   "language": "python",
   "name": "toggl-track"
  },
  "language_info": {
   "codemirror_mode": {
    "name": "ipython",
    "version": 3
   },
   "file_extension": ".py",
   "mimetype": "text/x-python",
   "name": "python",
   "nbconvert_exporter": "python",
   "pygments_lexer": "ipython3",
   "version": "3.8.8"
  }
 },
 "nbformat": 4,
 "nbformat_minor": 5
}
