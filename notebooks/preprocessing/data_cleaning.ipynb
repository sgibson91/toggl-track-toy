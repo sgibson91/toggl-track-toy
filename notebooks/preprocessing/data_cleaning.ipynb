{
 "cells": [
  {
   "cell_type": "code",
   "execution_count": null,
   "id": "32c33ff7",
   "metadata": {},
   "outputs": [],
   "source": [
    "import os\n",
    "import fnmatch\n",
    "import pandas as pd"
   ]
  },
  {
   "cell_type": "code",
   "execution_count": null,
   "id": "de4d18b4",
   "metadata": {},
   "outputs": [],
   "source": [
    "# Setting filepaths\n",
    "#\n",
    "# Get Current Working Directory\n",
    "CWD = os.getcwd()\n",
    "\n",
    "# Set Relative and Absolute filepaths for raw data\n",
    "RAW_DATA_RELPATH = os.path.join(os.pardir, os.pardir, \"data\", \"raw\")\n",
    "RAW_DATA_ABSPATH = os.path.join(CWD, RAW_DATA_RELPATH)\n",
    "\n",
    "# Set Relative and Absolute filepaths for clean data\n",
    "CLEAN_DATA_RELPATH = os.path.join(os.pardir, os.pardir, \"data\", \"clean\")\n",
    "CLEAN_DATA_ABSPATH = os.path.join(CWD, CLEAN_DATA_RELPATH)"
   ]
  },
  {
   "cell_type": "code",
   "execution_count": null,
   "id": "333a29bd",
   "metadata": {},
   "outputs": [],
   "source": [
    "# Find data files\n",
    "datafiles = fnmatch.filter(os.listdir(RAW_DATA_ABSPATH), \"*time*.csv\")\n",
    "datafiles"
   ]
  },
  {
   "cell_type": "code",
   "execution_count": null,
   "id": "e96e1a98",
   "metadata": {},
   "outputs": [],
   "source": [
    "# Concatenate all data files into single dataframe\n",
    "filename = os.path.join(RAW_DATA_ABSPATH, datafiles[0])\n",
    "df = pd.read_csv(filename, parse_dates=[\"Start date\", \"End date\"])\n",
    "\n",
    "for datafile in datafiles[1:]:\n",
    "    filename = os.path.join(RAW_DATA_ABSPATH, datafile)\n",
    "    tmpdf = pd.read_csv(filename, parse_dates=[\"Start date\", \"End date\"])\n",
    "    df = pd.concat([df, tmpdf])\n",
    "\n",
    "df.drop(\n",
    "    [\"User\", \"Email\", \"Client\", \"Task\", \"Billable\", \"Tags\", \"Amount ()\"],\n",
    "    axis=1,\n",
    "    inplace=True,\n",
    ")\n",
    "\n",
    "print(df.head())\n",
    "df.describe()"
   ]
  },
  {
   "cell_type": "code",
   "execution_count": null,
   "id": "17da26ec",
   "metadata": {},
   "outputs": [],
   "source": []
  }
 ],
 "metadata": {
  "kernelspec": {
   "display_name": "Python 3 (toggl-track)",
   "language": "python",
   "name": "toggl-track"
  },
  "language_info": {
   "codemirror_mode": {
    "name": "ipython",
    "version": 3
   },
   "file_extension": ".py",
   "mimetype": "text/x-python",
   "name": "python",
   "nbconvert_exporter": "python",
   "pygments_lexer": "ipython3",
   "version": "3.8.8"
  }
 },
 "nbformat": 4,
 "nbformat_minor": 5
}
